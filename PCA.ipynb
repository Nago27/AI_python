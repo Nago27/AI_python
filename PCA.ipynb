{
  "nbformat": 4,
  "nbformat_minor": 0,
  "metadata": {
    "colab": {
      "provenance": [],
      "name": "PCA.ipynb",
      "authorship_tag": "ABX9TyPFABsmjODJ/EOLLVEh4XnF",
      "include_colab_link": true
    },
    "kernelspec": {
      "name": "python3",
      "display_name": "Python 3"
    },
    "language_info": {
      "name": "python"
    }
  },
  "cells": [
    {
      "cell_type": "markdown",
      "metadata": {
        "id": "view-in-github",
        "colab_type": "text"
      },
      "source": [
        "<a href=\"https://colab.research.google.com/github/Nago27/AI_python/blob/main/PCA.ipynb\" target=\"_parent\"><img src=\"https://colab.research.google.com/assets/colab-badge.svg\" alt=\"Open In Colab\"/></a>"
      ]
    },
    {
      "cell_type": "code",
      "execution_count": null,
      "metadata": {
        "id": "g-vu1dWs2fRR"
      },
      "outputs": [],
      "source": [
        "!wget https://bit.ly/fruits_300_data -O fruits_300.npy\n",
        "\n",
        "import numpy as np\n",
        "fruits = np.load('fruits_300.npy')\n",
        "fruits_2d = fruits.reshape(-1, 100 * 100)\n",
        "\n",
        "import matplotlib.pyplot as plt\n",
        "def draw_fruits(arr, ratio=1):\n",
        "\tn = len(arr)\n",
        "\trows = int(np.ceil(n/10))\n",
        "\tcols = n if rows < 2 else 10\n",
        "\tfig, axs = plt.subplots(rows, cols, figsize=(cols*ratio, rows*ratio), squeeze=False)\n",
        "\tfor i in range(rows):\n",
        "\t\tfor j in range(cols):\n",
        "\t\t\tif i*10 + j < n:\n",
        "\t\t\t\taxs[i, j].imshow(arr[i*10 + j], cmap='gray_r')\n",
        "\t\t\taxs[i, j].axis('off')\n",
        "\tplt.show()\n",
        "\n",
        "# 주성분 분석 -> PCA 클래스\n",
        "from sklearn.decomposition import PCA\n",
        "pca = PCA(n_components=50)\n",
        "pca.fit(fruits_2d)\n",
        "print(pca.components_.shape)\n",
        "\n",
        "fruits_pca = pca.transform(fruits_2d) # 50개의 특성을 가진 데이터\n",
        "print(fruits_pca.shape) # (300, 50)\n",
        "\n",
        "# 원본 데이터 재구성\n",
        "fruits_inverse = pca.inverse_transform(fruits_pca)\n",
        "fruits_reconstruct = fruits_inverse.reshape(-1, 100, 100)\n",
        "for start in [0, 100, 200]:\n",
        "  draw_fruits(fruits_reconstruct[start:start+100])\n",
        "  print('\\n')\n",
        "\n",
        "# 설명된 분산\n",
        "print('설명된 분산', np.sum(pca.explained_variance_ratio_))\n",
        "plt.plot(pca.explained_variance_ratio_)\n",
        "plt.show()"
      ]
    },
    {
      "cell_type": "code",
      "source": [
        "# 로지스틱 회귀로 원본과 축소 데이터 차이점 확인\n",
        "rom sklearn.linear_model import LogisticRegression\n",
        "lr = LogisticRegression()\n",
        "\n",
        "target = np.array([0]*100 + [1]*100 + [2]*100) # 사과: 0, 파인애플: 1, 바나나: 2\n",
        "\n",
        "## 교차 검증\n",
        "from sklearn.model_selection import cross_validate\n",
        "scores = cross_validate(lr, fruits_2d, target)\n",
        "print(np.mean(scores['test_score'])) # 점수: 0.997\n",
        "print(np.mean(scores['fit_time'])) # 훈련 시간: 0.942\n",
        "\n",
        "## PCA 교차 검증\n",
        "scores = cross_validate(lr, fruits_pca, target)\n",
        "print(np.mean(scores['test_score'])) # 점수: 1.0\n",
        "print(np.mean(scores['fit_time'])) # 훈련 시간: 0.032\n",
        "\n",
        "# 차원 축소된 데이터와 k-평균 알고리즘\n",
        "from sklearn.cluster import KMeans\n",
        "km = KMeans(n_clusters=3, random_state=42)\n",
        "km.fit(fruits_pca)\n",
        "print(np.unique(km.labels_, return_counts=True))\n",
        "\n",
        "for label in range(0, 3):\n",
        "  draw_fruits(fruits[km.labels_ == label])\n",
        "  print(\"\\n\")\n",
        "\n",
        "for label in range(0, 3):\n",
        "  data = fruits_pca[km.labels == label]\n",
        "  plt.scatter(data[:, 0], data[:, 1])\n",
        "plt.legend(['apple', 'banana', 'pineapple'])\n",
        "plt.show()"
      ],
      "metadata": {
        "id": "hhEKlkuC5acs"
      },
      "execution_count": null,
      "outputs": []
    }
  ]
}