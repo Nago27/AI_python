{
  "nbformat": 4,
  "nbformat_minor": 0,
  "metadata": {
    "colab": {
      "provenance": [],
      "authorship_tag": "ABX9TyOcFSqpvdVXmdP6FlsZLQG4",
      "include_colab_link": true
    },
    "kernelspec": {
      "name": "python3",
      "display_name": "Python 3"
    },
    "language_info": {
      "name": "python"
    }
  },
  "cells": [
    {
      "cell_type": "markdown",
      "metadata": {
        "id": "view-in-github",
        "colab_type": "text"
      },
      "source": [
        "<a href=\"https://colab.research.google.com/github/Nago27/AI_python/blob/main/validation_set.ipynb\" target=\"_parent\"><img src=\"https://colab.research.google.com/assets/colab-badge.svg\" alt=\"Open In Colab\"/></a>"
      ]
    },
    {
      "cell_type": "code",
      "execution_count": 2,
      "metadata": {
        "id": "fm1eAzCku0BT",
        "outputId": "518bec84-fb73-4773-8e77-77fdb4e57e16",
        "colab": {
          "base_uri": "https://localhost:8080/"
        }
      },
      "outputs": [
        {
          "output_type": "stream",
          "name": "stdout",
          "text": [
            "훈련 세트 / 검증 세트\n",
            "(4157, 3) (1040, 3)\n"
          ]
        }
      ],
      "source": [
        "import pandas as pd\n",
        "wine = pd.read_csv('https://bit.ly/wine_csv_data')\n",
        "data = wine[['alcohol', 'sugar', 'pH']].to_numpy()\n",
        "target = wine['class'].to_numpy()\n",
        "\n",
        "from sklearn.model_selection import train_test_split\n",
        "train_input, test_input, train_target, test_target = train_test_split(data, target, test_size=0.2, random_state=42)\n",
        "\n",
        "# 검증 세트\n",
        "sub_input, val_input, sub_target, val_target = train_test_split(train_input, train_target, test_size=0.2, random_state=42)\n",
        "print('훈련 세트 / 검증 세트')\n",
        "print(sub_input.shape, val_input.shape)\n",
        "\n",
        "# 모델 평가\n",
        "from sklearn.tree import DecisionTreeClassifier\n",
        "dt = DecisionTreeClassifier(random_state=42)\n",
        "dt.fit(sub_input, sub_target)\n",
        "print(dt.score(sub_input, sub_target))\n",
        "print(dt.score(val_input, val_target))\n",
        "\n",
        "# 교차 검증\n",
        "from sklearn.model_selection import cross_validate\n",
        "scores = cross_validate(dt, train_input, train_target)\n",
        "\n",
        "# 검증 폴드의 점수 (평균)\n",
        "import numpy as np\n",
        "print(np.mean(scores['test_score'])) # 0.85\n",
        "\n",
        "# 분할기 사용\n",
        "from sklearn.model_selection import StratifiedKFold\n",
        "scores = cross_validate(dt, train_input, train_target, cv=StratifiedKFold())\n",
        "print('분할기')\n",
        "print(np.mean(scores['test_score']))"
      ]
    },
    {
      "cell_type": "code",
      "source": [
        "# 하이퍼파라미터 튜닝 (그리드 서치)\n",
        "from sklearn.model_selection import GridSearchCV\n",
        "params = {'min_impurity_decrease' : [0.0001, 0.0002, 0.0003, 0.0004, 0.0005]}\n",
        "gs = GridSearchCV(DecisionTreeClassifier(random_state=42), params, n_jobs=-1)\n",
        "gs.fit(train_input, train_target)\n",
        "\n",
        "# 최적의 하이퍼파라미터로 교차 검증 점수가 가장 높은 모델의 매개변수 조합을 자동으로 모델을 훈련\n",
        "dt = gs.best_esimator_\n",
        "print(dt.score(trian_input, train_target))\n",
        "# 최적의 매개변수\n",
        "print(gs.best_params_) # 0.0001\n",
        "# 각 매개변수에서 수행한 교차 검증의 평균 점수\n",
        "print(gs.cv_results_['mean_test_score'])\n",
        "\n",
        "# 랜덤 서치\n",
        "params = {'min_impurity_decrease': uniform(0.0001, 0.001),\n",
        "\t\t\t\t\t'max_depth': randint(20, 50),\n",
        "\t\t\t\t\t'min_samples_split': randint(2, 25),\n",
        "\t\t\t\t\t'min_samples_leaf': randint(1, 25)}\n",
        "\n",
        "from sklearn.model_selection import RandomizedSearchCV\n",
        "gs = RandomizedSearchCV(DecisionTreeClassifier(random_state=42), params,\n",
        "\t\t\t\t\t\t\t\t\t\t\t\tn_iter=100, n_jobs=-1, random_state=42)\n",
        "gs.fit(train_input, train_target)\n",
        "\n",
        "print(gs.best_params_)\n",
        "print(np.max(gs.cv_results_['mean_test_score']))\n",
        "\n",
        "# 테스트 성능 확인\n",
        "dt = gs.best_estimator_\n",
        "print(dt.score(test_input, test_target))"
      ],
      "metadata": {
        "id": "825WScoH8XjB"
      },
      "execution_count": null,
      "outputs": []
    }
  ]
}